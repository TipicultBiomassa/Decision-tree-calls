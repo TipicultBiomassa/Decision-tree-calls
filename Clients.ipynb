{
  "nbformat": 4,
  "nbformat_minor": 0,
  "metadata": {
    "colab": {
      "name": "Clients.ipynb",
      "provenance": []
    },
    "kernelspec": {
      "name": "python3",
      "display_name": "Python 3"
    },
    "language_info": {
      "name": "python"
    }
  },
  "cells": [
    {
      "cell_type": "code",
      "metadata": {
        "id": "XSxZ6u2tXfBT"
      },
      "source": [
        "import pandas as pd\n",
        "data = pd.read_csv(\"data.csv\", delimiter=',')"
      ],
      "execution_count": null,
      "outputs": []
    },
    {
      "cell_type": "code",
      "metadata": {
        "colab": {
          "base_uri": "https://localhost:8080/",
          "height": 258
        },
        "id": "3q7jE99Eatzo",
        "outputId": "495e13c0-ab06-414a-f734-114776af2550"
      },
      "source": [
        "data.head(5)"
      ],
      "execution_count": null,
      "outputs": [
        {
          "output_type": "execute_result",
          "data": {
            "text/html": [
              "<div>\n",
              "<style scoped>\n",
              "    .dataframe tbody tr th:only-of-type {\n",
              "        vertical-align: middle;\n",
              "    }\n",
              "\n",
              "    .dataframe tbody tr th {\n",
              "        vertical-align: top;\n",
              "    }\n",
              "\n",
              "    .dataframe thead th {\n",
              "        text-align: right;\n",
              "    }\n",
              "</style>\n",
              "<table border=\"1\" class=\"dataframe\">\n",
              "  <thead>\n",
              "    <tr style=\"text-align: right;\">\n",
              "      <th></th>\n",
              "      <th>Штат</th>\n",
              "      <th>Длина счета</th>\n",
              "      <th>Код зоны</th>\n",
              "      <th>Номер телефона</th>\n",
              "      <th>Услуга международных звонков</th>\n",
              "      <th>Услуга VMail</th>\n",
              "      <th>Количество VMail</th>\n",
              "      <th>Дневные минуты</th>\n",
              "      <th>Дневные звонки</th>\n",
              "      <th>Дневная оплата</th>\n",
              "      <th>Вечерние минуты</th>\n",
              "      <th>Вечерние звонки</th>\n",
              "      <th>Вечерняя оплата</th>\n",
              "      <th>Ночные минуты</th>\n",
              "      <th>Ночные звонки</th>\n",
              "      <th>Ночная оплата</th>\n",
              "      <th>Международные минуты</th>\n",
              "      <th>Международные звонки</th>\n",
              "      <th>Международная оплата</th>\n",
              "      <th>Обращений в СЦ</th>\n",
              "      <th>Уход</th>\n",
              "    </tr>\n",
              "  </thead>\n",
              "  <tbody>\n",
              "    <tr>\n",
              "      <th>0</th>\n",
              "      <td>KS</td>\n",
              "      <td>128</td>\n",
              "      <td>415</td>\n",
              "      <td>382-4657</td>\n",
              "      <td>False</td>\n",
              "      <td>True</td>\n",
              "      <td>25</td>\n",
              "      <td>265.1</td>\n",
              "      <td>110</td>\n",
              "      <td>45.07</td>\n",
              "      <td>197.4</td>\n",
              "      <td>99</td>\n",
              "      <td>16.78</td>\n",
              "      <td>244.7</td>\n",
              "      <td>91</td>\n",
              "      <td>11.01</td>\n",
              "      <td>10.0</td>\n",
              "      <td>3</td>\n",
              "      <td>2.70</td>\n",
              "      <td>1</td>\n",
              "      <td>False</td>\n",
              "    </tr>\n",
              "    <tr>\n",
              "      <th>1</th>\n",
              "      <td>OH</td>\n",
              "      <td>107</td>\n",
              "      <td>415</td>\n",
              "      <td>371-7191</td>\n",
              "      <td>False</td>\n",
              "      <td>True</td>\n",
              "      <td>26</td>\n",
              "      <td>161.6</td>\n",
              "      <td>123</td>\n",
              "      <td>27.47</td>\n",
              "      <td>195.5</td>\n",
              "      <td>103</td>\n",
              "      <td>16.62</td>\n",
              "      <td>254.4</td>\n",
              "      <td>103</td>\n",
              "      <td>11.45</td>\n",
              "      <td>13.7</td>\n",
              "      <td>3</td>\n",
              "      <td>3.70</td>\n",
              "      <td>1</td>\n",
              "      <td>False</td>\n",
              "    </tr>\n",
              "    <tr>\n",
              "      <th>2</th>\n",
              "      <td>NJ</td>\n",
              "      <td>137</td>\n",
              "      <td>415</td>\n",
              "      <td>358-1921</td>\n",
              "      <td>False</td>\n",
              "      <td>False</td>\n",
              "      <td>0</td>\n",
              "      <td>243.4</td>\n",
              "      <td>114</td>\n",
              "      <td>41.38</td>\n",
              "      <td>121.2</td>\n",
              "      <td>110</td>\n",
              "      <td>10.30</td>\n",
              "      <td>162.6</td>\n",
              "      <td>104</td>\n",
              "      <td>7.32</td>\n",
              "      <td>12.2</td>\n",
              "      <td>5</td>\n",
              "      <td>3.29</td>\n",
              "      <td>0</td>\n",
              "      <td>False</td>\n",
              "    </tr>\n",
              "    <tr>\n",
              "      <th>3</th>\n",
              "      <td>OH</td>\n",
              "      <td>84</td>\n",
              "      <td>408</td>\n",
              "      <td>375-9999</td>\n",
              "      <td>True</td>\n",
              "      <td>False</td>\n",
              "      <td>0</td>\n",
              "      <td>299.4</td>\n",
              "      <td>71</td>\n",
              "      <td>50.90</td>\n",
              "      <td>61.9</td>\n",
              "      <td>88</td>\n",
              "      <td>5.26</td>\n",
              "      <td>196.9</td>\n",
              "      <td>89</td>\n",
              "      <td>8.86</td>\n",
              "      <td>6.6</td>\n",
              "      <td>7</td>\n",
              "      <td>1.78</td>\n",
              "      <td>2</td>\n",
              "      <td>False</td>\n",
              "    </tr>\n",
              "    <tr>\n",
              "      <th>4</th>\n",
              "      <td>OK</td>\n",
              "      <td>75</td>\n",
              "      <td>415</td>\n",
              "      <td>330-6626</td>\n",
              "      <td>True</td>\n",
              "      <td>False</td>\n",
              "      <td>0</td>\n",
              "      <td>166.7</td>\n",
              "      <td>113</td>\n",
              "      <td>28.34</td>\n",
              "      <td>148.3</td>\n",
              "      <td>122</td>\n",
              "      <td>12.61</td>\n",
              "      <td>186.9</td>\n",
              "      <td>121</td>\n",
              "      <td>8.41</td>\n",
              "      <td>10.1</td>\n",
              "      <td>3</td>\n",
              "      <td>2.73</td>\n",
              "      <td>3</td>\n",
              "      <td>False</td>\n",
              "    </tr>\n",
              "  </tbody>\n",
              "</table>\n",
              "</div>"
            ],
            "text/plain": [
              "  Штат  Длина счета  Код зоны  ... Международная оплата  Обращений в СЦ   Уход\n",
              "0   KS          128       415  ...                 2.70               1  False\n",
              "1   OH          107       415  ...                 3.70               1  False\n",
              "2   NJ          137       415  ...                 3.29               0  False\n",
              "3   OH           84       408  ...                 1.78               2  False\n",
              "4   OK           75       415  ...                 2.73               3  False\n",
              "\n",
              "[5 rows x 21 columns]"
            ]
          },
          "metadata": {
            "tags": []
          },
          "execution_count": 33
        }
      ]
    },
    {
      "cell_type": "code",
      "metadata": {
        "colab": {
          "base_uri": "https://localhost:8080/"
        },
        "id": "gNuaRu8iay1S",
        "outputId": "4fd3f935-552a-4530-8ac9-5960fe95236d"
      },
      "source": [
        "data.info()"
      ],
      "execution_count": null,
      "outputs": [
        {
          "output_type": "stream",
          "text": [
            "<class 'pandas.core.frame.DataFrame'>\n",
            "RangeIndex: 3333 entries, 0 to 3332\n",
            "Data columns (total 21 columns):\n",
            " #   Column                        Non-Null Count  Dtype  \n",
            "---  ------                        --------------  -----  \n",
            " 0   Штат                          3333 non-null   object \n",
            " 1   Длина счета                   3333 non-null   int64  \n",
            " 2   Код зоны                      3333 non-null   int64  \n",
            " 3   Номер телефона                3333 non-null   object \n",
            " 4   Услуга международных звонков  3333 non-null   bool   \n",
            " 5   Услуга VMail                  3333 non-null   bool   \n",
            " 6   Количество VMail              3333 non-null   int64  \n",
            " 7   Дневные минуты                3333 non-null   float64\n",
            " 8   Дневные звонки                3333 non-null   int64  \n",
            " 9   Дневная оплата                3333 non-null   float64\n",
            " 10  Вечерние минуты               3333 non-null   float64\n",
            " 11  Вечерние звонки               3333 non-null   int64  \n",
            " 12  Вечерняя оплата               3333 non-null   float64\n",
            " 13  Ночные минуты                 3333 non-null   float64\n",
            " 14  Ночные звонки                 3333 non-null   int64  \n",
            " 15  Ночная оплата                 3333 non-null   float64\n",
            " 16  Международные минуты          3333 non-null   float64\n",
            " 17  Международные звонки          3333 non-null   int64  \n",
            " 18  Международная оплата          3333 non-null   float64\n",
            " 19  Обращений в СЦ                3333 non-null   int64  \n",
            " 20  Уход                          3333 non-null   bool   \n",
            "dtypes: bool(3), float64(8), int64(8), object(2)\n",
            "memory usage: 478.6+ KB\n"
          ],
          "name": "stdout"
        }
      ]
    },
    {
      "cell_type": "code",
      "metadata": {
        "colab": {
          "base_uri": "https://localhost:8080/"
        },
        "id": "GARpPQkya2Uo",
        "outputId": "88d59b81-451f-414d-bcbc-928e28b54b18"
      },
      "source": [
        "data.isnull().sum()"
      ],
      "execution_count": null,
      "outputs": [
        {
          "output_type": "execute_result",
          "data": {
            "text/plain": [
              "Штат                            0\n",
              "Длина счета                     0\n",
              "Код зоны                        0\n",
              "Номер телефона                  0\n",
              "Услуга международных звонков    0\n",
              "Услуга VMail                    0\n",
              "Количество VMail                0\n",
              "Дневные минуты                  0\n",
              "Дневные звонки                  0\n",
              "Дневная оплата                  0\n",
              "Вечерние минуты                 0\n",
              "Вечерние звонки                 0\n",
              "Вечерняя оплата                 0\n",
              "Ночные минуты                   0\n",
              "Ночные звонки                   0\n",
              "Ночная оплата                   0\n",
              "Международные минуты            0\n",
              "Международные звонки            0\n",
              "Международная оплата            0\n",
              "Обращений в СЦ                  0\n",
              "Уход                            0\n",
              "dtype: int64"
            ]
          },
          "metadata": {
            "tags": []
          },
          "execution_count": 35
        }
      ]
    },
    {
      "cell_type": "code",
      "metadata": {
        "colab": {
          "base_uri": "https://localhost:8080/",
          "height": 279
        },
        "id": "TbZU2eiJcXSQ",
        "outputId": "c5d947a5-5d05-451e-d7cf-9bf2d8c1dadf"
      },
      "source": [
        "import seaborn as sns\n",
        "snsplot = sns.kdeplot(data['Дневные звонки'], shade=True)\n",
        "fig = snsplot.get_figure()\n"
      ],
      "execution_count": null,
      "outputs": [
        {
          "output_type": "display_data",
          "data": {
            "image/png": "[encoded data removed]",
            "text/plain": [
              "<Figure size 432x288 with 1 Axes>"
            ]
          },
          "metadata": {
            "tags": [],
            "needs_background": "light"
          }
        }
      ]
    },
    {
      "cell_type": "code",
      "metadata": {
        "id": "qcaTgHzAch8p"
      },
      "source": [
        "data = data.drop(['Длина счета', \"Код зоны\", \"Номер телефона\", \"Штат\"], axis =1)\n",
        "#data = data.drop(['Длина счета'])"
      ],
      "execution_count": null,
      "outputs": []
    },
    {
      "cell_type": "code",
      "metadata": {
        "colab": {
          "base_uri": "https://localhost:8080/"
        },
        "id": "uDhZlYc0c06I",
        "outputId": "51656d46-151c-41b8-c253-59f5a022f0f3"
      },
      "source": [
        "data['Уход'].value_counts()"
      ],
      "execution_count": null,
      "outputs": [
        {
          "output_type": "execute_result",
          "data": {
            "text/plain": [
              "False    2850\n",
              "True      483\n",
              "Name: Уход, dtype: int64"
            ]
          },
          "metadata": {
            "tags": []
          },
          "execution_count": 38
        }
      ]
    },
    {
      "cell_type": "code",
      "metadata": {
        "id": "rzr6u6Urexqx"
      },
      "source": [
        "#remapping = {'FALSE': 0,'TRUE': 1}\n",
        "\n",
        "data[\"Услуга международных звонков\"] = data[\"Услуга международных звонков\"].astype(int)\n",
        "data[\"Услуга VMail\"] = data[\"Услуга VMail\"].astype(int)\n",
        "data[\"Уход\"] = data[\"Уход\"].astype(int)\n",
        "\n"
      ],
      "execution_count": null,
      "outputs": []
    },
    {
      "cell_type": "code",
      "metadata": {
        "colab": {
          "base_uri": "https://localhost:8080/",
          "height": 548
        },
        "id": "aRdsG11_gKkS",
        "outputId": "a84eb11a-5a95-47b7-86ce-115b40e5acec"
      },
      "source": [
        "data.head(15)"
      ],
      "execution_count": null,
      "outputs": [
        {
          "output_type": "execute_result",
          "data": {
            "text/html": [
              "<div>\n",
              "<style scoped>\n",
              "    .dataframe tbody tr th:only-of-type {\n",
              "        vertical-align: middle;\n",
              "    }\n",
              "\n",
              "    .dataframe tbody tr th {\n",
              "        vertical-align: top;\n",
              "    }\n",
              "\n",
              "    .dataframe thead th {\n",
              "        text-align: right;\n",
              "    }\n",
              "</style>\n",
              "<table border=\"1\" class=\"dataframe\">\n",
              "  <thead>\n",
              "    <tr style=\"text-align: right;\">\n",
              "      <th></th>\n",
              "      <th>Услуга международных звонков</th>\n",
              "      <th>Услуга VMail</th>\n",
              "      <th>Количество VMail</th>\n",
              "      <th>Дневные минуты</th>\n",
              "      <th>Дневные звонки</th>\n",
              "      <th>Дневная оплата</th>\n",
              "      <th>Вечерние минуты</th>\n",
              "      <th>Вечерние звонки</th>\n",
              "      <th>Вечерняя оплата</th>\n",
              "      <th>Ночные минуты</th>\n",
              "      <th>Ночные звонки</th>\n",
              "      <th>Ночная оплата</th>\n",
              "      <th>Международные минуты</th>\n",
              "      <th>Международные звонки</th>\n",
              "      <th>Международная оплата</th>\n",
              "      <th>Обращений в СЦ</th>\n",
              "      <th>Уход</th>\n",
              "    </tr>\n",
              "  </thead>\n",
              "  <tbody>\n",
              "    <tr>\n",
              "      <th>0</th>\n",
              "      <td>0</td>\n",
              "      <td>1</td>\n",
              "      <td>25</td>\n",
              "      <td>265.1</td>\n",
              "      <td>110</td>\n",
              "      <td>45.07</td>\n",
              "      <td>197.4</td>\n",
              "      <td>99</td>\n",
              "      <td>16.78</td>\n",
              "      <td>244.7</td>\n",
              "      <td>91</td>\n",
              "      <td>11.01</td>\n",
              "      <td>10.0</td>\n",
              "      <td>3</td>\n",
              "      <td>2.70</td>\n",
              "      <td>1</td>\n",
              "      <td>0</td>\n",
              "    </tr>\n",
              "    <tr>\n",
              "      <th>1</th>\n",
              "      <td>0</td>\n",
              "      <td>1</td>\n",
              "      <td>26</td>\n",
              "      <td>161.6</td>\n",
              "      <td>123</td>\n",
              "      <td>27.47</td>\n",
              "      <td>195.5</td>\n",
              "      <td>103</td>\n",
              "      <td>16.62</td>\n",
              "      <td>254.4</td>\n",
              "      <td>103</td>\n",
              "      <td>11.45</td>\n",
              "      <td>13.7</td>\n",
              "      <td>3</td>\n",
              "      <td>3.70</td>\n",
              "      <td>1</td>\n",
              "      <td>0</td>\n",
              "    </tr>\n",
              "    <tr>\n",
              "      <th>2</th>\n",
              "      <td>0</td>\n",
              "      <td>0</td>\n",
              "      <td>0</td>\n",
              "      <td>243.4</td>\n",
              "      <td>114</td>\n",
              "      <td>41.38</td>\n",
              "      <td>121.2</td>\n",
              "      <td>110</td>\n",
              "      <td>10.30</td>\n",
              "      <td>162.6</td>\n",
              "      <td>104</td>\n",
              "      <td>7.32</td>\n",
              "      <td>12.2</td>\n",
              "      <td>5</td>\n",
              "      <td>3.29</td>\n",
              "      <td>0</td>\n",
              "      <td>0</td>\n",
              "    </tr>\n",
              "    <tr>\n",
              "      <th>3</th>\n",
              "      <td>1</td>\n",
              "      <td>0</td>\n",
              "      <td>0</td>\n",
              "      <td>299.4</td>\n",
              "      <td>71</td>\n",
              "      <td>50.90</td>\n",
              "      <td>61.9</td>\n",
              "      <td>88</td>\n",
              "      <td>5.26</td>\n",
              "      <td>196.9</td>\n",
              "      <td>89</td>\n",
              "      <td>8.86</td>\n",
              "      <td>6.6</td>\n",
              "      <td>7</td>\n",
              "      <td>1.78</td>\n",
              "      <td>2</td>\n",
              "      <td>0</td>\n",
              "    </tr>\n",
              "    <tr>\n",
              "      <th>4</th>\n",
              "      <td>1</td>\n",
              "      <td>0</td>\n",
              "      <td>0</td>\n",
              "      <td>166.7</td>\n",
              "      <td>113</td>\n",
              "      <td>28.34</td>\n",
              "      <td>148.3</td>\n",
              "      <td>122</td>\n",
              "      <td>12.61</td>\n",
              "      <td>186.9</td>\n",
              "      <td>121</td>\n",
              "      <td>8.41</td>\n",
              "      <td>10.1</td>\n",
              "      <td>3</td>\n",
              "      <td>2.73</td>\n",
              "      <td>3</td>\n",
              "      <td>0</td>\n",
              "    </tr>\n",
              "    <tr>\n",
              "      <th>5</th>\n",
              "      <td>1</td>\n",
              "      <td>0</td>\n",
              "      <td>0</td>\n",
              "      <td>223.4</td>\n",
              "      <td>98</td>\n",
              "      <td>37.98</td>\n",
              "      <td>220.6</td>\n",
              "      <td>101</td>\n",
              "      <td>18.75</td>\n",
              "      <td>203.9</td>\n",
              "      <td>118</td>\n",
              "      <td>9.18</td>\n",
              "      <td>6.3</td>\n",
              "      <td>6</td>\n",
              "      <td>1.70</td>\n",
              "      <td>0</td>\n",
              "      <td>0</td>\n",
              "    </tr>\n",
              "    <tr>\n",
              "      <th>6</th>\n",
              "      <td>0</td>\n",
              "      <td>1</td>\n",
              "      <td>24</td>\n",
              "      <td>218.2</td>\n",
              "      <td>88</td>\n",
              "      <td>37.09</td>\n",
              "      <td>348.5</td>\n",
              "      <td>108</td>\n",
              "      <td>29.62</td>\n",
              "      <td>212.6</td>\n",
              "      <td>118</td>\n",
              "      <td>9.57</td>\n",
              "      <td>7.5</td>\n",
              "      <td>7</td>\n",
              "      <td>2.03</td>\n",
              "      <td>3</td>\n",
              "      <td>0</td>\n",
              "    </tr>\n",
              "    <tr>\n",
              "      <th>7</th>\n",
              "      <td>1</td>\n",
              "      <td>0</td>\n",
              "      <td>0</td>\n",
              "      <td>157.0</td>\n",
              "      <td>79</td>\n",
              "      <td>26.69</td>\n",
              "      <td>103.1</td>\n",
              "      <td>94</td>\n",
              "      <td>8.76</td>\n",
              "      <td>211.8</td>\n",
              "      <td>96</td>\n",
              "      <td>9.53</td>\n",
              "      <td>7.1</td>\n",
              "      <td>6</td>\n",
              "      <td>1.92</td>\n",
              "      <td>0</td>\n",
              "      <td>0</td>\n",
              "    </tr>\n",
              "    <tr>\n",
              "      <th>8</th>\n",
              "      <td>0</td>\n",
              "      <td>0</td>\n",
              "      <td>0</td>\n",
              "      <td>184.5</td>\n",
              "      <td>97</td>\n",
              "      <td>31.37</td>\n",
              "      <td>351.6</td>\n",
              "      <td>80</td>\n",
              "      <td>29.89</td>\n",
              "      <td>215.8</td>\n",
              "      <td>90</td>\n",
              "      <td>9.71</td>\n",
              "      <td>8.7</td>\n",
              "      <td>4</td>\n",
              "      <td>2.35</td>\n",
              "      <td>1</td>\n",
              "      <td>0</td>\n",
              "    </tr>\n",
              "    <tr>\n",
              "      <th>9</th>\n",
              "      <td>1</td>\n",
              "      <td>1</td>\n",
              "      <td>37</td>\n",
              "      <td>258.6</td>\n",
              "      <td>84</td>\n",
              "      <td>43.96</td>\n",
              "      <td>222.0</td>\n",
              "      <td>111</td>\n",
              "      <td>18.87</td>\n",
              "      <td>326.4</td>\n",
              "      <td>97</td>\n",
              "      <td>14.69</td>\n",
              "      <td>11.2</td>\n",
              "      <td>5</td>\n",
              "      <td>3.02</td>\n",
              "      <td>0</td>\n",
              "      <td>0</td>\n",
              "    </tr>\n",
              "    <tr>\n",
              "      <th>10</th>\n",
              "      <td>0</td>\n",
              "      <td>0</td>\n",
              "      <td>0</td>\n",
              "      <td>129.1</td>\n",
              "      <td>137</td>\n",
              "      <td>21.95</td>\n",
              "      <td>228.5</td>\n",
              "      <td>83</td>\n",
              "      <td>19.42</td>\n",
              "      <td>208.8</td>\n",
              "      <td>111</td>\n",
              "      <td>9.40</td>\n",
              "      <td>12.7</td>\n",
              "      <td>6</td>\n",
              "      <td>3.43</td>\n",
              "      <td>4</td>\n",
              "      <td>1</td>\n",
              "    </tr>\n",
              "    <tr>\n",
              "      <th>11</th>\n",
              "      <td>0</td>\n",
              "      <td>0</td>\n",
              "      <td>0</td>\n",
              "      <td>187.7</td>\n",
              "      <td>127</td>\n",
              "      <td>31.91</td>\n",
              "      <td>163.4</td>\n",
              "      <td>148</td>\n",
              "      <td>13.89</td>\n",
              "      <td>196.0</td>\n",
              "      <td>94</td>\n",
              "      <td>8.82</td>\n",
              "      <td>9.1</td>\n",
              "      <td>5</td>\n",
              "      <td>2.46</td>\n",
              "      <td>0</td>\n",
              "      <td>0</td>\n",
              "    </tr>\n",
              "    <tr>\n",
              "      <th>12</th>\n",
              "      <td>0</td>\n",
              "      <td>0</td>\n",
              "      <td>0</td>\n",
              "      <td>128.8</td>\n",
              "      <td>96</td>\n",
              "      <td>21.90</td>\n",
              "      <td>104.9</td>\n",
              "      <td>71</td>\n",
              "      <td>8.92</td>\n",
              "      <td>141.1</td>\n",
              "      <td>128</td>\n",
              "      <td>6.35</td>\n",
              "      <td>11.2</td>\n",
              "      <td>2</td>\n",
              "      <td>3.02</td>\n",
              "      <td>1</td>\n",
              "      <td>0</td>\n",
              "    </tr>\n",
              "    <tr>\n",
              "      <th>13</th>\n",
              "      <td>0</td>\n",
              "      <td>0</td>\n",
              "      <td>0</td>\n",
              "      <td>156.6</td>\n",
              "      <td>88</td>\n",
              "      <td>26.62</td>\n",
              "      <td>247.6</td>\n",
              "      <td>75</td>\n",
              "      <td>21.05</td>\n",
              "      <td>192.3</td>\n",
              "      <td>115</td>\n",
              "      <td>8.65</td>\n",
              "      <td>12.3</td>\n",
              "      <td>5</td>\n",
              "      <td>3.32</td>\n",
              "      <td>3</td>\n",
              "      <td>0</td>\n",
              "    </tr>\n",
              "    <tr>\n",
              "      <th>14</th>\n",
              "      <td>0</td>\n",
              "      <td>0</td>\n",
              "      <td>0</td>\n",
              "      <td>120.7</td>\n",
              "      <td>70</td>\n",
              "      <td>20.52</td>\n",
              "      <td>307.2</td>\n",
              "      <td>76</td>\n",
              "      <td>26.11</td>\n",
              "      <td>203.0</td>\n",
              "      <td>99</td>\n",
              "      <td>9.14</td>\n",
              "      <td>13.1</td>\n",
              "      <td>6</td>\n",
              "      <td>3.54</td>\n",
              "      <td>4</td>\n",
              "      <td>0</td>\n",
              "    </tr>\n",
              "  </tbody>\n",
              "</table>\n",
              "</div>"
            ],
            "text/plain": [
              "    Услуга международных звонков  Услуга VMail  ...  Обращений в СЦ  Уход\n",
              "0                              0             1  ...               1     0\n",
              "1                              0             1  ...               1     0\n",
              "2                              0             0  ...               0     0\n",
              "3                              1             0  ...               2     0\n",
              "4                              1             0  ...               3     0\n",
              "5                              1             0  ...               0     0\n",
              "6                              0             1  ...               3     0\n",
              "7                              1             0  ...               0     0\n",
              "8                              0             0  ...               1     0\n",
              "9                              1             1  ...               0     0\n",
              "10                             0             0  ...               4     1\n",
              "11                             0             0  ...               0     0\n",
              "12                             0             0  ...               1     0\n",
              "13                             0             0  ...               3     0\n",
              "14                             0             0  ...               4     0\n",
              "\n",
              "[15 rows x 17 columns]"
            ]
          },
          "metadata": {
            "tags": []
          },
          "execution_count": 40
        }
      ]
    },
    {
      "cell_type": "code",
      "metadata": {
        "id": "STCX5cLhgzzJ"
      },
      "source": [
        "x = data\n",
        "x = x.drop(['Уход'], axis =1)\n",
        "y = data['Уход']\n",
        "\n"
      ],
      "execution_count": null,
      "outputs": []
    },
    {
      "cell_type": "code",
      "metadata": {
        "colab": {
          "base_uri": "https://localhost:8080/",
          "height": 238
        },
        "id": "1hoWPrnlHynp",
        "outputId": "95570dac-98a3-481a-a37c-97fe83bcb775"
      },
      "source": [
        "data.head(5)"
      ],
      "execution_count": null,
      "outputs": [
        {
          "output_type": "execute_result",
          "data": {
            "text/html": [
              "<div>\n",
              "<style scoped>\n",
              "    .dataframe tbody tr th:only-of-type {\n",
              "        vertical-align: middle;\n",
              "    }\n",
              "\n",
              "    .dataframe tbody tr th {\n",
              "        vertical-align: top;\n",
              "    }\n",
              "\n",
              "    .dataframe thead th {\n",
              "        text-align: right;\n",
              "    }\n",
              "</style>\n",
              "<table border=\"1\" class=\"dataframe\">\n",
              "  <thead>\n",
              "    <tr style=\"text-align: right;\">\n",
              "      <th></th>\n",
              "      <th>Услуга международных звонков</th>\n",
              "      <th>Услуга VMail</th>\n",
              "      <th>Количество VMail</th>\n",
              "      <th>Дневные минуты</th>\n",
              "      <th>Дневные звонки</th>\n",
              "      <th>Дневная оплата</th>\n",
              "      <th>Вечерние минуты</th>\n",
              "      <th>Вечерние звонки</th>\n",
              "      <th>Вечерняя оплата</th>\n",
              "      <th>Ночные минуты</th>\n",
              "      <th>Ночные звонки</th>\n",
              "      <th>Ночная оплата</th>\n",
              "      <th>Международные минуты</th>\n",
              "      <th>Международные звонки</th>\n",
              "      <th>Международная оплата</th>\n",
              "      <th>Обращений в СЦ</th>\n",
              "      <th>Уход</th>\n",
              "    </tr>\n",
              "  </thead>\n",
              "  <tbody>\n",
              "    <tr>\n",
              "      <th>0</th>\n",
              "      <td>0</td>\n",
              "      <td>1</td>\n",
              "      <td>25</td>\n",
              "      <td>265.1</td>\n",
              "      <td>110</td>\n",
              "      <td>45.07</td>\n",
              "      <td>197.4</td>\n",
              "      <td>99</td>\n",
              "      <td>16.78</td>\n",
              "      <td>244.7</td>\n",
              "      <td>91</td>\n",
              "      <td>11.01</td>\n",
              "      <td>10.0</td>\n",
              "      <td>3</td>\n",
              "      <td>2.70</td>\n",
              "      <td>1</td>\n",
              "      <td>0</td>\n",
              "    </tr>\n",
              "    <tr>\n",
              "      <th>1</th>\n",
              "      <td>0</td>\n",
              "      <td>1</td>\n",
              "      <td>26</td>\n",
              "      <td>161.6</td>\n",
              "      <td>123</td>\n",
              "      <td>27.47</td>\n",
              "      <td>195.5</td>\n",
              "      <td>103</td>\n",
              "      <td>16.62</td>\n",
              "      <td>254.4</td>\n",
              "      <td>103</td>\n",
              "      <td>11.45</td>\n",
              "      <td>13.7</td>\n",
              "      <td>3</td>\n",
              "      <td>3.70</td>\n",
              "      <td>1</td>\n",
              "      <td>0</td>\n",
              "    </tr>\n",
              "    <tr>\n",
              "      <th>2</th>\n",
              "      <td>0</td>\n",
              "      <td>0</td>\n",
              "      <td>0</td>\n",
              "      <td>243.4</td>\n",
              "      <td>114</td>\n",
              "      <td>41.38</td>\n",
              "      <td>121.2</td>\n",
              "      <td>110</td>\n",
              "      <td>10.30</td>\n",
              "      <td>162.6</td>\n",
              "      <td>104</td>\n",
              "      <td>7.32</td>\n",
              "      <td>12.2</td>\n",
              "      <td>5</td>\n",
              "      <td>3.29</td>\n",
              "      <td>0</td>\n",
              "      <td>0</td>\n",
              "    </tr>\n",
              "    <tr>\n",
              "      <th>3</th>\n",
              "      <td>1</td>\n",
              "      <td>0</td>\n",
              "      <td>0</td>\n",
              "      <td>299.4</td>\n",
              "      <td>71</td>\n",
              "      <td>50.90</td>\n",
              "      <td>61.9</td>\n",
              "      <td>88</td>\n",
              "      <td>5.26</td>\n",
              "      <td>196.9</td>\n",
              "      <td>89</td>\n",
              "      <td>8.86</td>\n",
              "      <td>6.6</td>\n",
              "      <td>7</td>\n",
              "      <td>1.78</td>\n",
              "      <td>2</td>\n",
              "      <td>0</td>\n",
              "    </tr>\n",
              "    <tr>\n",
              "      <th>4</th>\n",
              "      <td>1</td>\n",
              "      <td>0</td>\n",
              "      <td>0</td>\n",
              "      <td>166.7</td>\n",
              "      <td>113</td>\n",
              "      <td>28.34</td>\n",
              "      <td>148.3</td>\n",
              "      <td>122</td>\n",
              "      <td>12.61</td>\n",
              "      <td>186.9</td>\n",
              "      <td>121</td>\n",
              "      <td>8.41</td>\n",
              "      <td>10.1</td>\n",
              "      <td>3</td>\n",
              "      <td>2.73</td>\n",
              "      <td>3</td>\n",
              "      <td>0</td>\n",
              "    </tr>\n",
              "  </tbody>\n",
              "</table>\n",
              "</div>"
            ],
            "text/plain": [
              "   Услуга международных звонков  Услуга VMail  ...  Обращений в СЦ  Уход\n",
              "0                             0             1  ...               1     0\n",
              "1                             0             1  ...               1     0\n",
              "2                             0             0  ...               0     0\n",
              "3                             1             0  ...               2     0\n",
              "4                             1             0  ...               3     0\n",
              "\n",
              "[5 rows x 17 columns]"
            ]
          },
          "metadata": {
            "tags": []
          },
          "execution_count": 42
        }
      ]
    },
    {
      "cell_type": "code",
      "metadata": {
        "colab": {
          "base_uri": "https://localhost:8080/"
        },
        "id": "gUf9TeujKa-f",
        "outputId": "b8e4368e-dc9c-4e5f-d817-1246450e28f1"
      },
      "source": [
        "#Построение модели - решающего дерева\n",
        "x.isnull().sum()"
      ],
      "execution_count": null,
      "outputs": [
        {
          "output_type": "execute_result",
          "data": {
            "text/plain": [
              "Услуга международных звонков    0\n",
              "Услуга VMail                    0\n",
              "Количество VMail                0\n",
              "Дневные минуты                  0\n",
              "Дневные звонки                  0\n",
              "Дневная оплата                  0\n",
              "Вечерние минуты                 0\n",
              "Вечерние звонки                 0\n",
              "Вечерняя оплата                 0\n",
              "Ночные минуты                   0\n",
              "Ночные звонки                   0\n",
              "Ночная оплата                   0\n",
              "Международные минуты            0\n",
              "Международные звонки            0\n",
              "Международная оплата            0\n",
              "Обращений в СЦ                  0\n",
              "dtype: int64"
            ]
          },
          "metadata": {
            "tags": []
          },
          "execution_count": 43
        }
      ]
    },
    {
      "cell_type": "code",
      "metadata": {
        "id": "XuRm9UnZKrHw"
      },
      "source": [
        "from sklearn.model_selection import train_test_split as tts\n",
        "#x.info()\n",
        "x_train,x_test,y_train,y_test = tts(x,y,test_size=0.2,random_state=42)"
      ],
      "execution_count": null,
      "outputs": []
    },
    {
      "cell_type": "code",
      "metadata": {
        "colab": {
          "base_uri": "https://localhost:8080/"
        },
        "id": "CDyWGdY8Lumg",
        "outputId": "f9a7b8d9-7712-4e13-f21f-385852c6dfee"
      },
      "source": [
        "len(x_train)\n"
      ],
      "execution_count": null,
      "outputs": [
        {
          "output_type": "execute_result",
          "data": {
            "text/plain": [
              "2666"
            ]
          },
          "metadata": {
            "tags": []
          },
          "execution_count": 45
        }
      ]
    },
    {
      "cell_type": "code",
      "metadata": {
        "colab": {
          "base_uri": "https://localhost:8080/"
        },
        "id": "aWOmJ3qILw7o",
        "outputId": "a305387c-2d3b-496a-e0d1-c1e439e577d1"
      },
      "source": [
        "len(x_test)"
      ],
      "execution_count": null,
      "outputs": [
        {
          "output_type": "execute_result",
          "data": {
            "text/plain": [
              "667"
            ]
          },
          "metadata": {
            "tags": []
          },
          "execution_count": 46
        }
      ]
    },
    {
      "cell_type": "code",
      "metadata": {
        "colab": {
          "base_uri": "https://localhost:8080/"
        },
        "id": "l8298kKtL1cx",
        "outputId": "ddc60b93-5f6f-44ea-d13e-da89c81e9510"
      },
      "source": [
        "from sklearn.tree import DecisionTreeClassifier\n",
        "model_tree= DecisionTreeClassifier(max_depth=3)\n",
        "model_tree.fit(x_train,y_train)"
      ],
      "execution_count": null,
      "outputs": [
        {
          "output_type": "execute_result",
          "data": {
            "text/plain": [
              "DecisionTreeClassifier(ccp_alpha=0.0, class_weight=None, criterion='gini',\n",
              "                       max_depth=3, max_features=None, max_leaf_nodes=None,\n",
              "                       min_impurity_decrease=0.0, min_impurity_split=None,\n",
              "                       min_samples_leaf=1, min_samples_split=2,\n",
              "                       min_weight_fraction_leaf=0.0, presort='deprecated',\n",
              "                       random_state=None, splitter='best')"
            ]
          },
          "metadata": {
            "tags": []
          },
          "execution_count": 48
        }
      ]
    },
    {
      "cell_type": "code",
      "metadata": {
        "id": "Y6NqXKZ_NEP4"
      },
      "source": [
        "from sklearn.tree import export_graphviz\n",
        "\n",
        "export_graphviz(model_tree, feature_names = [\"Услуга международных звонков\",\t\"Услуга VMail\",\t\"Количество VMail\",\t\"Дневные минуты\",\t\"Дневные звонки\",\t\"Дневная оплата\",\t\"Вечерние минуты\",\t\"Вечерние звонки\",\t\"Вечерняя оплата\",\t\"Ночные минуты\",\t\"Ночные звонки\",\n",
        "\"Ночная оплата\",\t\"Международные минуты\",\t\"Международные звонки\",\t\"Международная оплата\",\t\"Обращений в СЦ\"],\n",
        "out_file = 'tree.dot', filled=True)\n",
        "!dot -Tpng 'tree.dot' -o 'tree.png'"
      ],
      "execution_count": null,
      "outputs": []
    },
    {
      "cell_type": "code",
      "metadata": {
        "colab": {
          "base_uri": "https://localhost:8080/"
        },
        "id": "oVBb1C9vOcVq",
        "outputId": "06df0823-17bb-48f6-80bf-05c3d058b212"
      },
      "source": [
        "!ls"
      ],
      "execution_count": null,
      "outputs": [
        {
          "output_type": "stream",
          "text": [
            "data.csv  sample_data  tree.dot  tree.png\n"
          ],
          "name": "stdout"
        }
      ]
    },
    {
      "cell_type": "code",
      "metadata": {
        "colab": {
          "base_uri": "https://localhost:8080/",
          "height": 514
        },
        "id": "BE1WSkbXQlUB",
        "outputId": "d2aed62b-b026-4e9a-8f78-4631c8510cd8"
      },
      "source": [
        "from IPython.display import Image\n",
        "Image(filename='tree.png') "
      ],
      "execution_count": null,
      "outputs": [
        {
          "output_type": "execute_result",
          "data": {
            "image/png": "[encoded data removed]",
            "text/plain": [
              "<IPython.core.display.Image object>"
            ]
          },
          "metadata": {
            "tags": []
          },
          "execution_count": 59
        }
      ]
    },
    {
      "cell_type": "code",
      "metadata": {
        "id": "mp1PEV1KQ31i"
      },
      "source": [
        "y_predict = model_tree.predict(x_test)\n"
      ],
      "execution_count": null,
      "outputs": []
    },
    {
      "cell_type": "code",
      "metadata": {
        "colab": {
          "base_uri": "https://localhost:8080/"
        },
        "id": "MS5lIcmaRimZ",
        "outputId": "49b396f8-1cec-419c-adac-e61f2b8801c4"
      },
      "source": [
        "y_predict[:5]"
      ],
      "execution_count": null,
      "outputs": [
        {
          "output_type": "execute_result",
          "data": {
            "text/plain": [
              "array([0, 0, 1, 0, 0])"
            ]
          },
          "metadata": {
            "tags": []
          },
          "execution_count": 63
        }
      ]
    },
    {
      "cell_type": "code",
      "metadata": {
        "colab": {
          "base_uri": "https://localhost:8080/"
        },
        "id": "zhi5qSm6RVmJ",
        "outputId": "a65c2874-5a67-4606-9213-fece278fa077"
      },
      "source": [
        "from sklearn.metrics import accuracy_score\n",
        "print(accuracy_score(y_test,y_predict))"
      ],
      "execution_count": null,
      "outputs": [
        {
          "output_type": "stream",
          "text": [
            "0.8935532233883059\n"
          ],
          "name": "stdout"
        }
      ]
    }
  ]
}